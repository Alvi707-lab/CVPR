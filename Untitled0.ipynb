{
  "nbformat": 4,
  "nbformat_minor": 0,
  "metadata": {
    "colab": {
      "provenance": [],
      "mount_file_id": "1ZY_R7dA8L8gt1LPqkWNBKDskN_Ajdo5I",
      "authorship_tag": "ABX9TyMwzmrXlQYXdeR9UcGie7c3",
      "include_colab_link": true
    },
    "kernelspec": {
      "name": "python3",
      "display_name": "Python 3"
    },
    "language_info": {
      "name": "python"
    }
  },
  "cells": [
    {
      "cell_type": "markdown",
      "metadata": {
        "id": "view-in-github",
        "colab_type": "text"
      },
      "source": [
        "<a href=\"https://colab.research.google.com/github/Alvi707-lab/CVPR/blob/main/Untitled0.ipynb\" target=\"_parent\"><img src=\"https://colab.research.google.com/assets/colab-badge.svg\" alt=\"Open In Colab\"/></a>"
      ]
    },
    {
      "cell_type": "code",
      "execution_count": null,
      "metadata": {
        "id": "BVuOlsYbMz2y"
      },
      "outputs": [],
      "source": [
        "import cv2\n",
        "import numpy as np\n",
        "import os\n",
        "import matplotlib.pyplot as plt\n",
        "from tqdm import tqdm\n",
        "import random"
      ]
    },
    {
      "cell_type": "markdown",
      "source": [
        "Load Images from folder"
      ],
      "metadata": {
        "id": "ISXB72nNTEam"
      }
    },
    {
      "cell_type": "code",
      "source": [
        "def load_images_from_folder(folder):\n",
        "    images = []\n",
        "    labels = []\n",
        "    for category in os.listdir(folder):\n",
        "            for filename in tqdm(os.listdir(os.path.join(folder,category))):\n",
        "                img = cv2.imread(os.path.join(folder,category,filename))\n",
        "                if img is not None:\n",
        "                    img = cv2.cvtColor(img, cv2.COLOR_BGR2RGB)\n",
        "                    images.append(img)\n",
        "                    labels.append(category)\n",
        "    return np.array(images), np.array(labels)\n"
      ],
      "metadata": {
        "id": "Sujy6eKcThXc"
      },
      "execution_count": null,
      "outputs": []
    },
    {
      "cell_type": "code",
      "source": [
        "train_folder = r'/content/drive/MyDrive/animals/train'\n",
        "test_folder = r'/content/drive/MyDrive/animals/test'\n",
        "\n",
        "\n",
        "train_images, train_labels = load_images_from_folder(train)\n",
        "test_images, test_labels = load_images_from_folder(test)"
      ],
      "metadata": {
        "id": "zOzLowMsUBUC"
      },
      "execution_count": null,
      "outputs": []
    },
    {
      "source": [
        "import cv2\n",
        "import numpy as np\n",
        "\n",
        "# Function to preprocess the images (convert to grayscale and resize)\n",
        "def preprocess_images(images):\n",
        "    processed_images = []\n",
        "    for img in images:\n",
        "        gray_img = cv2.cvtColor(img, cv2.COLOR_BGR2GRAY)  # Convert to grayscale\n",
        "        resized_img = cv2.resize(gray_img, (32, 32))  # Resize to 32x32 pixels\n",
        "        processed_images.append(resized_img)\n",
        "    return np.array(processed_images)\n",
        "\n",
        "# Assuming X_train and X_test are your dataset in RGB format\n",
        "X_train_gray = preprocess_images(X_train)  # Preprocess training images\n",
        "X_test_gray = preprocess_images(X_test)    # Preprocess test images\n"
      ],
      "cell_type": "code",
      "metadata": {
        "id": "IRuZrxjr0ahZ"
      },
      "execution_count": null,
      "outputs": []
    },
    {
      "cell_type": "code",
      "source": [
        "from sklearn.neighbors import KNeighborsClassifier\n",
        "\n",
        "# Train k-NN model with the preprocessed grayscale images\n",
        "knn_model = KNeighborsClassifier(n_neighbors=3)  # Choose a value for K\n",
        "knn_model.fit(X_train_gray.reshape(len(X_train_gray), -1), y_train)  # Flatten images for training\n"
      ],
      "metadata": {
        "id": "LlEln30tGg76"
      },
      "execution_count": null,
      "outputs": []
    },
    {
      "cell_type": "code",
      "source": [
        "from sklearn.model_selection import cross_val_score\n",
        "\n",
        "# Perform 5-fold cross-validation using the grayscale images\n",
        "scores = cross_val_score(knn_model, X_train_gray.reshape(len(X_train_gray), -1), y_train, cv=5)\n",
        "print(f\"Cross-validation accuracy: {scores.mean()}\")\n"
      ],
      "metadata": {
        "id": "hmBIvtLOHc_L"
      },
      "execution_count": null,
      "outputs": []
    },
    {
      "source": [
        "#Show Categories\n",
        "CATEGORIES = []\n",
        "for c in os.listdir(train_folder):\n",
        "    CATEGORIES.append(c)\n",
        "print(CATEGORIES)\n",
        "\n",
        "# select an image to view to know the right label\n",
        "image_index = 11149\n",
        "\n",
        "\n",
        "# display the image\n",
        "plt.imshow(train_images[image_index])\n",
        "plt.title(train_labels[image_index])\n",
        "plt.show()"
      ],
      "cell_type": "code",
      "metadata": {
        "id": "TSQpBIkL0oQv"
      },
      "execution_count": null,
      "outputs": []
    },
    {
      "cell_type": "code",
      "source": [
        "train_images = train_images / 255.0\n",
        "test_images = test_images / 255.0\n",
        "print(\"Training images shape:\", train_images.shape)\n",
        "print(\"Training labels shape:\", train_labels.shape)\n",
        "print(\"Test images shape:\", test_images.shape)\n",
        "print(\"Test labels shape:\", test_labels.shape)\n"
      ],
      "metadata": {
        "id": "mqkuRyeiymLk"
      },
      "execution_count": null,
      "outputs": []
    },
    {
      "cell_type": "code",
      "source": [
        "# set the number of samples to use for subsampling\n",
        "num_training = 5000\n",
        "num_testing = 500\n",
        "\n",
        "# randomly select indices for subsampling\n",
        "train_indices = np.random.choice(len(train_images), num_training , replace=False)\n",
        "test_indices = np.random.choice(len(test_images), num_testing, replace=False)\n",
        "\n",
        "# subsample the training and test data using the selected indices\n",
        "train_images_sub = train_images[train_indices]\n",
        "train_labels_sub = train_labels[train_indices]\n",
        "X_train = train_images_sub\n",
        "y_train = train_labels_sub\n",
        "\n",
        "test_images_sub = test_images[test_indices]\n",
        "test_labels_sub = test_labels[test_indices]\n",
        "\n",
        "X_test = test_images_sub\n",
        "y_test = test_labels_sub\n",
        "\n",
        "# get the dimensions of the images\n",
        "image_dim = train_images.shape[1:]\n",
        "\n",
        "# flatten the images into 1D arrays\n",
        "train_images_flat = train_images_sub.reshape(train_images_sub.shape[0], -1)\n",
        "test_images_flat = test_images_sub.reshape(test_images_sub.shape[0], -1)\n",
        "\n",
        "# print the new shapes of the flattened arrays\n",
        "print(\"Training images shape (flat):\", train_images_flat.shape)\n",
        "print(\"Test images shape (flat):\", test_images_flat.shape)"
      ],
      "metadata": {
        "id": "3-btggnyJR3I"
      },
      "execution_count": null,
      "outputs": []
    },
    {
      "cell_type": "code",
      "source": [
        "class KNearestNeighbor(object):\n",
        "\n",
        "  def __init__(self):\n",
        "    pass\n",
        "\n",
        "  def train(self, X, y):\n",
        "    self.X_train = X\n",
        "    self.y_train = y\n",
        "\n",
        "  def predict(self, X, k=1, num_loops=0):\n",
        "    if num_loops == 0:\n",
        "      dists = self.compute_distances_no_loops(X)\n",
        "    elif num_loops == 1:\n",
        "      dists = self.compute_distances_one_loop(X)\n",
        "    elif num_loops == 2:\n",
        "      dists = self.compute_distances_two_loops(X)\n",
        "    else:\n",
        "      raise ValueError('Invalid value %d for num_loops' % num_loops)\n",
        "    return self.predict_labels(dists, k=k)\n",
        "\n",
        "  def compute_distances_two_loops(self, X):\n",
        "    num_test = X.shape[0]\n",
        "    num_train = self.X_train.shape[0]\n",
        "    dists = np.zeros((num_test, num_train))\n",
        "    for i in range(num_test):\n",
        "        for j in range(num_train):\n",
        "            dists[i, j] = np.sqrt(np.sum((X[i, :] - self.X_train[j, :]) **2))\n",
        "    return dists\n",
        "\n",
        "  def compute_distances_one_loop(self, X):\n",
        "    num_test = X.shape[0]\n",
        "    num_train = self.X_train.shape[0]\n",
        "    dists = np.zeros((num_test, num_train))\n",
        "    for i in range(num_test):\n",
        "      dists[i, :] = np.sqrt(np.sum((self.X_train - X[i, :])**2, axis=1))\n",
        "    return dists\n",
        "\n",
        "  def compute_distances_no_loops(self, X):\n",
        "    num_test = X.shape[0]\n",
        "    num_train = self.X_train.shape[0]\n",
        "    dists = np.zeros((num_test, num_train))\n",
        "    dists = np.sqrt((-2 * np.dot(X, self.X_train.T)) + np.sum(X**2, axis=1, keepdims=True) + np.sum(self.X_train**2, axis=1))\n",
        "    return dists\n",
        "\n",
        "  def compute_l1_distances_two_loops(self, X):\n",
        "    num_test = X.shape[0]\n",
        "    num_train = self.X_train.shape[0]\n",
        "    dists = np.zeros((num_test, num_train))\n",
        "    for i in range(num_test):\n",
        "        for j in range(num_train):\n",
        "            dists[i, j] = np.sum((X[i, :] - self.X_train[j, :]))\n",
        "    return dists\n",
        "\n",
        "  def predict_labels(self, dists, k=1):\n",
        "    num_test = dists.shape[0]\n",
        "    y_pred = np.zeros(num_test, dtype=self.y_train.dtype)\n",
        "    for i in range(num_test):\n",
        "        k_nearest_idxs = np.argsort(dists[i, :])[:k]\n",
        "        closest_y = self.y_train[k_nearest_idxs]\n",
        "        label_count = {}\n",
        "        for label in closest_y:\n",
        "            if label in label_count:\n",
        "                label_count[label] += 1\n",
        "            else:\n",
        "                label_count[label] = 1\n",
        "        y_pred[i] = max(label_count, key=label_count.get)\n",
        "    return y_pred"
      ],
      "metadata": {
        "id": "g72NLy3XJY8J"
      },
      "execution_count": null,
      "outputs": []
    },
    {
      "cell_type": "code",
      "source": [
        "classifier = KNearestNeighbor()\n",
        "classifier.train(X_train, y_train)\n",
        "dists = classifier.compute_distances_two_loops(X_test)\n",
        "print( dists.shape)"
      ],
      "metadata": {
        "id": "a6QWgFO1J4b6"
      },
      "execution_count": null,
      "outputs": []
    },
    {
      "cell_type": "code",
      "source": [
        "num_folds = 5\n",
        "k_choices = [1, 3, 5, 9, 13, 15, 20]\n",
        "\n",
        "X_train_folds = []\n",
        "y_train_folds = []\n",
        "\n",
        "\n",
        "random_list = random.sample(list(zip(X_train, y_train)), len(list(zip(X_train, y_train))))\n",
        "X_train, y_train = zip(*random_list)\n",
        "\n",
        "X_train_folds = np.array_split(X_train, num_folds, axis=0) # list\n",
        "y_train_folds = np.array_split(y_train, num_folds, axis=0) # list\n",
        "\n",
        "k_to_accuracies = {}\n",
        "\n",
        "for i in range(num_folds):\n",
        "    X_train_batch = np.concatenate(X_train_folds[1:num_folds])\n",
        "    y_train_batch = np.concatenate(y_train_folds[0:num_folds])\n",
        "\n",
        "    X_valid_batch = X_train_folds[0]\n",
        "    y_valid_batch = y_train_folds[0]\n",
        "\n",
        "    if i < num_folds - 1:\n",
        "        tmp = X_train_folds[0]\n",
        "        X_train_folds[0] = X_train_folds[i+1]\n",
        "        X_train_folds[i+1] = tmp\n",
        "        tmp = y_train_folds[0]\n",
        "        y_train_folds[0] = y_train_folds[i+1]\n",
        "        y_train_folds[i+1] = tmp\n",
        "\n",
        "    model = KNearestNeighbor()\n",
        "    model.train(X_train_batch, y_train_batch)\n",
        "    dists = model.compute_distances_two_loops(X_valid_batch)\n",
        "    for k in k_choices:\n",
        "        y_valid_pred = model.predict_labels(dists,k=k)\n",
        "        num_correct = np.sum(y_valid_pred == y_valid_batch)\n",
        "        accuracy = float(num_correct) / y_valid_batch.shape[0]\n",
        "        if i == 0:\n",
        "            k_to_accuracies[k] = []\n",
        "        k_to_accuracies[k].append(accuracy)\n",
        "\n",
        "for k in sorted(k_to_accuracies):\n",
        "    for accuracy in k_to_accuracies[k]:\n",
        "\n",
        "        print('k = %d, accuracy = %f' % (k, accuracy))\n",
        "\n",
        "k_to_l1_accuracies = {}\n",
        "\n",
        "\n",
        "for i in range(num_folds):\n",
        "    X_train_batch = np.concatenate(X_train_folds[1:num_folds])\n",
        "    y_train_batch = np.concatenate(y_train_folds[0:num_folds])\n",
        "\n",
        "    X_valid_batch = X_train_folds[0]\n",
        "    y_valid_batch = y_train_folds[0]\n",
        "\n",
        "    if i < num_folds - 1:\n",
        "        tmp = X_train_folds[0]\n",
        "        X_train_folds[0] = X_train_folds[i+1]\n",
        "        X_train_folds[i+1] = tmp\n",
        "        tmp = y_train_folds[0]\n",
        "        y_train_folds[0] = y_train_folds[i+1]\n",
        "        y_train_folds[i+1] = tmp\n",
        "\n",
        "    model = KNearestNeighbor()\n",
        "    model.train(X_train_batch, y_train_batch)\n",
        "    dists = model.compute_l1_distances_two_loops(X_valid_batch)\n",
        "    for k in k_choices:\n",
        "        y_valid_pred = model.predict_labels(dists,k=k)\n",
        "        num_correct = np.sum(y_valid_pred == y_valid_batch)\n",
        "        accuracy = float(num_correct) / y_valid_batch.shape[0]\n",
        "        if i == 0:\n",
        "            k_to_l1_accuracies[k] = []\n",
        "        k_to_l1_accuracies[k].append(accuracy)\n",
        "\n",
        "for k in sorted(k_to_l1_accuracies):\n",
        "    for accuracy in k_to_l1_accuracies[k]:\n",
        "\n",
        "        print('k = %d, accuracy = %f' % (k, accuracy))"
      ],
      "metadata": {
        "id": "ymODXuTEJ_lO"
      },
      "execution_count": null,
      "outputs": []
    },
    {
      "cell_type": "code",
      "source": [
        "# Plot accuracies for each k value for L2 distances\n",
        "fig, axs = plt.subplots(1, 2, figsize=(12, 6))\n",
        "\n",
        "for k in k_choices:\n",
        "    accuracies = k_to_accuracies[k]\n",
        "    mean_accuracy = np.mean(accuracies)\n",
        "    std_accuracy = np.std(accuracies)\n",
        "    axs[0].errorbar(k, mean_accuracy, yerr=std_accuracy, fmt='o')\n",
        "\n",
        "# Add trend line\n",
        "axs[0].plot(k_choices, [np.mean(k_to_accuracies[k]) for k in k_choices], label='L2 Distances')\n",
        "axs[0].set_xscale('log')\n",
        "axs[0].set_xlabel('Value of K')\n",
        "axs[0].set_ylabel('Cross-validation Accuracy')\n",
        "axs[0].legend(loc='best')\n",
        "\n",
        "# Plot accuracies for each k value for L1 distances\n",
        "for k in k_choices:\n",
        "    accuracies = k_to_l1_accuracies[k]\n",
        "    mean_accuracy = np.mean(accuracies)\n",
        "    std_accuracy = np.std(accuracies)\n",
        "    axs[1].errorbar(k, mean_accuracy, yerr=std_accuracy, fmt='o')\n",
        "\n",
        "# Add trend line\n",
        "axs[1].plot(k_choices, [np.mean(k_to_l1_accuracies[k]) for k in k_choices], label='L1 Distances')\n",
        "axs[1].set_xscale('log')\n",
        "axs[1].set_xlabel('Value of K')\n",
        "axs[1].set_ylabel('Cross-validation Accuracy')\n",
        "axs[1].legend(loc='best')\n",
        "\n",
        "plt.show()\n"
      ],
      "metadata": {
        "id": "TRH46ACrKKUu"
      },
      "execution_count": null,
      "outputs": []
    },
    {
      "cell_type": "code",
      "source": [
        "# Plot accuracies for each k value\n",
        "for k in k_choices:\n",
        "    accuracies = k_to_accuracies[k]\n",
        "    mean_accuracy = np.mean(accuracies)\n",
        "    std_accuracy = np.std(accuracies)\n",
        "    plt.errorbar(k, mean_accuracy, yerr=std_accuracy, fmt='o')\n",
        "\n",
        "    accuracies = k_to_l1_accuracies[k]\n",
        "    mean_accuracy = np.mean(accuracies)\n",
        "    std_accuracy = np.std(accuracies)\n",
        "    plt.errorbar(k, mean_accuracy, yerr=std_accuracy, fmt='o')\n",
        "\n",
        "# Add trend line\n",
        "plt.plot(k_choices, [np.mean(k_to_accuracies[k]) for k in k_choices], label='L2 Distances')\n",
        "plt.plot(k_choices, [np.mean(k_to_l1_accuracies[k]) for k in k_choices], label='L1 Distances')\n",
        "\n",
        "plt.xscale('log')\n",
        "plt.xlabel('Value of K')\n",
        "plt.ylabel('Cross-validation Accuracy')\n",
        "plt.legend(loc='best')\n",
        "plt.show()"
      ],
      "metadata": {
        "id": "FDvpsKcqKRTD"
      },
      "execution_count": null,
      "outputs": []
    },
    {
      "cell_type": "code",
      "source": [
        "import matplotlib.pyplot as plt\n",
        "\n",
        "# Function to display images along with predictions\n",
        "def display_top_5_predictions(X_test, y_test, model, k=5):\n",
        "    # Get predictions for the first k test images\n",
        "    predictions = model.predict(X_test[:k].reshape(k, -1))\n",
        "\n",
        "    # Plot the images with predictions and true labels\n",
        "    plt.figure(figsize=(10, 5))\n",
        "    for i in range(k):\n",
        "        plt.subplot(1, k, i+1)\n",
        "        plt.imshow(X_test[i], cmap='gray')  # Show grayscale images\n",
        "        plt.title(f'Pred: {predictions[i]} \\n True: {y_test[i]}')\n",
        "        plt.axis('off')\n",
        "    plt.show()\n",
        "\n",
        "# Call the function to display top 5 predictions\n",
        "display_top_5_predictions(X_test_gray, y_test, knn_model, k=5)\n"
      ],
      "metadata": {
        "id": "-StzcoSgKSbL"
      },
      "execution_count": null,
      "outputs": []
    }
  ]
}